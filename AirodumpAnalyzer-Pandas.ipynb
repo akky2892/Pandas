{
 "cells": [
  {
   "cell_type": "markdown",
   "metadata": {},
   "source": [
    "# AIRODUMP SCAN RESULTS - CSV Analyzer USING PANDAS\n",
    "\n",
    "We will be using the CSV file created by Airodump-NG to analyze the Wi-Fi network.\n",
    "\n",
    "In the csv we have 2 sections:-\n",
    "\n",
    "    1. Access Point analysis\n",
    "    2. Client analysis\n",
    "\n",
    "1. Access Point analysis\n",
    "\n",
    "Will use below mentioned question sets to analyze our large csv file using pandas:-\n",
    "\n",
    "    Which are the unique SSIDs?\n",
    "    Are there any hidden SSID networks?\n",
    "    How many APs of each SSID?\n",
    "    Which channels are most occupied?\n",
    "    Which manufacturers of Wi-Fi cards are most popular?\n",
    "\n",
    "2. Client analysis\n",
    "\n",
    "    Unique list of probed SSIDs?\n",
    "    How many clients are connected vs roaming?\n",
    "    \n",
    "    \n",
    "Lets Begin!\n"
   ]
  },
  {
   "cell_type": "code",
   "execution_count": null,
   "metadata": {
    "collapsed": true
   },
   "outputs": [],
   "source": [
    "%matplotlib inline\n",
    "import matplotlib.pyplot as plt \n",
    "import pandas as pd\n",
    "import numpy as np\n",
    "\n",
    "\n",
    "import netaddr \n",
    "\n",
    "\n",
    "import seaborn as sns\n",
    "sns.set_color_codes(palette='deep')\n"
   ]
  },
  {
   "cell_type": "markdown",
   "metadata": {},
   "source": [
    "# Parsing the CSV file to separate the AP and Client sections"
   ]
  },
  {
   "cell_type": "code",
   "execution_count": null,
   "metadata": {
    "collapsed": true
   },
   "outputs": [],
   "source": [
    "airodump_csv = open('airodump.csv', 'r').read()"
   ]
  },
  {
   "cell_type": "code",
   "execution_count": null,
   "metadata": {
    "collapsed": true
   },
   "outputs": [],
   "source": [
    "client_header = 'Station MAC, First time seen, Last time seen, Power, # packets, BSSID, Probed ESSIDs'\n",
    "\n",
    "hdi = airodump_csv.index(client_header)"
   ]
  },
  {
   "cell_type": "code",
   "execution_count": null,
   "metadata": {
    "collapsed": true
   },
   "outputs": [],
   "source": [
    "from StringIO import StringIO\n",
    "\n",
    "ap_csv = StringIO(airodump_csv[:hdi])\n",
    "\n",
    "client_csv = StringIO(airodump_csv[hdi:])\n"
   ]
  },
  {
   "cell_type": "code",
   "execution_count": null,
   "metadata": {
    "collapsed": true
   },
   "outputs": [],
   "source": [
    "ap_df = pd.read_csv(ap_csv, \n",
    "                   sep=',', \n",
    "                   skipinitialspace=True,\n",
    "                    parse_dates = ['First time seen', 'Last time seen']\n",
    "                   )"
   ]
  },
  {
   "cell_type": "code",
   "execution_count": null,
   "metadata": {
    "collapsed": true
   },
   "outputs": [],
   "source": [
    "client_df = pd.read_csv(client_csv,\n",
    "                        sep=', ',\n",
    "                        skipinitialspace=True,\n",
    "                        engine='python',\n",
    "                        parse_dates = ['First time seen', 'Last time seen']\n",
    "                       )"
   ]
  },
  {
   "cell_type": "code",
   "execution_count": null,
   "metadata": {
    "collapsed": true
   },
   "outputs": [],
   "source": [
    "ap_df.head(1)"
   ]
  },
  {
   "cell_type": "code",
   "execution_count": null,
   "metadata": {
    "collapsed": true
   },
   "outputs": [],
   "source": [
    "client_df.head(1)"
   ]
  },
  {
   "cell_type": "markdown",
   "metadata": {},
   "source": [
    "# AP Analysis\n",
    "Lets rename the column names which will make it easier to work"
   ]
  },
  {
   "cell_type": "code",
   "execution_count": null,
   "metadata": {
    "collapsed": true
   },
   "outputs": [],
   "source": [
    "ap_df.columns"
   ]
  },
  {
   "cell_type": "code",
   "execution_count": null,
   "metadata": {
    "collapsed": true
   },
   "outputs": [],
   "source": [
    " ap_df.rename(columns={\n",
    "        'BSSID' : 'bssid',\n",
    "        'First time seen' : 'firstseen',\n",
    "        'Last time seen' : 'lastseen',\n",
    "        'channel' : 'channel',\n",
    "        'Speed' : 'speed',\n",
    "        'Privacy' : 'privacy',\n",
    "        'Cipher' : 'cipher',\n",
    "        'Authentication' : 'authentication',\n",
    "        'Power' : 'dbpower',\n",
    "        '# beacons' : 'beacons',\n",
    "        '# IV' : 'iv',\n",
    "        'LAN IP' : 'ip',\n",
    "        'ID-length' : 'idlen',\n",
    "        'ESSID' : 'essid',\n",
    "        'Key' : 'key'\n",
    "    }, inplace=True)\n",
    "\n",
    "ap_df.head(3)"
   ]
  },
  {
   "cell_type": "markdown",
   "metadata": {},
   "source": [
    "# Which are the unique SSIDs?"
   ]
  },
  {
   "cell_type": "code",
   "execution_count": null,
   "metadata": {
    "collapsed": true
   },
   "outputs": [],
   "source": [
    "set(ap_df.essid)"
   ]
  },
  {
   "cell_type": "markdown",
   "metadata": {},
   "source": [
    "# Are there any Hidden SSID networks around?"
   ]
  },
  {
   "cell_type": "code",
   "execution_count": null,
   "metadata": {
    "collapsed": true
   },
   "outputs": [],
   "source": [
    "# Find all ESSIDs which is null i.e. Hidden SSID\n",
    "\n",
    "ap_df[ap_df.essid.isnull()]"
   ]
  },
  {
   "cell_type": "code",
   "execution_count": null,
   "metadata": {
    "collapsed": true
   },
   "outputs": [],
   "source": [
    "# Let's replace the NaNs with \"Hidden SSID\" \n",
    "\n",
    "ap_df.essid.fillna('Hidden SSID', inplace=True)\n",
    "\n",
    "ap_df.essid.hasnans"
   ]
  },
  {
   "cell_type": "code",
   "execution_count": null,
   "metadata": {
    "collapsed": true
   },
   "outputs": [],
   "source": [
    "ap_df[ap_df.essid == 'Hidden SSID'].head(3)"
   ]
  },
  {
   "cell_type": "markdown",
   "metadata": {},
   "source": [
    "# How many APs of each SSID?"
   ]
  },
  {
   "cell_type": "code",
   "execution_count": null,
   "metadata": {
    "collapsed": true
   },
   "outputs": [],
   "source": [
    "# Let us now get the ESSID counts\n",
    "\n",
    "essid_stats = ap_df.essid.value_counts()\n",
    "\n",
    "essid_stats"
   ]
  },
  {
   "cell_type": "code",
   "execution_count": null,
   "metadata": {
    "collapsed": true
   },
   "outputs": [],
   "source": [
    "essid_stats.plot(kind='barh', figsize=(10,5))"
   ]
  },
  {
   "cell_type": "markdown",
   "metadata": {},
   "source": [
    "# Which channels are most occupied?"
   ]
  },
  {
   "cell_type": "code",
   "execution_count": null,
   "metadata": {
    "collapsed": true
   },
   "outputs": [],
   "source": [
    "ap_df.channel.value_counts()"
   ]
  },
  {
   "cell_type": "code",
   "execution_count": null,
   "metadata": {
    "collapsed": true
   },
   "outputs": [],
   "source": [
    "ap_df.channel.value_counts().plot(kind='bar')"
   ]
  },
  {
   "cell_type": "markdown",
   "metadata": {},
   "source": [
    "# Which manufacturers of Wi-Fi cards are most popular?"
   ]
  },
  {
   "cell_type": "code",
   "execution_count": null,
   "metadata": {
    "collapsed": true
   },
   "outputs": [],
   "source": [
    "# AP vendors can be figured out by the first 3 bytes of the MAC address. \n",
    "\n",
    "\n",
    "manufacturer = ap_df.bssid.str.extract('(..:..:..)', expand=False)\n",
    "\n",
    "manufacturer.head(10)"
   ]
  },
  {
   "cell_type": "code",
   "execution_count": null,
   "metadata": {
    "collapsed": true
   },
   "outputs": [],
   "source": [
    "manufacturer.value_counts()"
   ]
  },
  {
   "cell_type": "code",
   "execution_count": null,
   "metadata": {
    "collapsed": true
   },
   "outputs": [],
   "source": [
    "# https://pypi.python.org/pypi/netaddr\n",
    "\n",
    "import netaddr"
   ]
  },
  {
   "cell_type": "code",
   "execution_count": null,
   "metadata": {
    "collapsed": true
   },
   "outputs": [],
   "source": [
    "netaddr.OUI('10:8C:CF'.replace(':', '-')).registration().org"
   ]
  },
  {
   "cell_type": "code",
   "execution_count": null,
   "metadata": {
    "collapsed": true
   },
   "outputs": [],
   "source": [
    "for x in manufacturer.value_counts().index[:10]: \n",
    "    print x"
   ]
  },
  {
   "cell_type": "code",
   "execution_count": null,
   "metadata": {
    "collapsed": true
   },
   "outputs": [],
   "source": [
    "def manufac(oui) :\n",
    "    try:\n",
    "        return netaddr.OUI(oui.replace(':', '-')).registration().org\n",
    "    except:\n",
    "        return \"Unknown\"\n",
    "\n",
    "[ manufac(oui) for oui in manufacturer.value_counts().index]"
   ]
  },
  {
   "cell_type": "markdown",
   "metadata": {},
   "source": [
    "# Client Analysis"
   ]
  },
  {
   "cell_type": "code",
   "execution_count": null,
   "metadata": {
    "collapsed": true
   },
   "outputs": [],
   "source": [
    "client_df.head(1)"
   ]
  },
  {
   "cell_type": "code",
   "execution_count": null,
   "metadata": {
    "collapsed": true
   },
   "outputs": [],
   "source": [
    "client_df.columns = ['clientmac', 'firstseen', 'lastseen', 'power', 'numpkts', 'bssid', 'probedssids']\n",
    "\n",
    "client_df.head(2)"
   ]
  },
  {
   "cell_type": "code",
   "execution_count": null,
   "metadata": {
    "collapsed": true
   },
   "outputs": [],
   "source": [
    "client_df.bssid.head(10)"
   ]
  },
  {
   "cell_type": "code",
   "execution_count": null,
   "metadata": {
    "collapsed": true
   },
   "outputs": [],
   "source": [
    "client_df['bssid'] = client_df.bssid.str.replace(',', '')\n",
    "\n",
    "client_df.bssid.head(10)"
   ]
  },
  {
   "cell_type": "markdown",
   "metadata": {},
   "source": [
    "# What is the unique list of Probed SSIDs by all clients"
   ]
  },
  {
   "cell_type": "code",
   "execution_count": null,
   "metadata": {
    "collapsed": true
   },
   "outputs": [],
   "source": [
    "all_probed_ssids_list = []\n",
    "\n",
    "def createprobedlist(x) :\n",
    "    if x:\n",
    "        all_probed_ssids_list.extend(x.strip().split(','))\n",
    "        \n",
    "client_df.probedssids.apply(createprobedlist)\n",
    "\n",
    "all_probed_ssids_list"
   ]
  },
  {
   "cell_type": "code",
   "execution_count": null,
   "metadata": {
    "collapsed": true
   },
   "outputs": [],
   "source": [
    "set(all_probed_ssids_list)"
   ]
  },
  {
   "cell_type": "markdown",
   "metadata": {},
   "source": [
    "# Number of Clients connect to an AP vs roaming?\n"
   ]
  },
  {
   "cell_type": "code",
   "execution_count": null,
   "metadata": {
    "collapsed": true
   },
   "outputs": [],
   "source": [
    "client_df.count()"
   ]
  },
  {
   "cell_type": "code",
   "execution_count": null,
   "metadata": {
    "collapsed": true
   },
   "outputs": [],
   "source": [
    "client_df.bssid.str.contains('not associated').value_counts()"
   ]
  }
 ],
 "metadata": {
  "kernelspec": {
   "display_name": "Python 2",
   "language": "python",
   "name": "python2"
  },
  "language_info": {
   "codemirror_mode": {
    "name": "ipython",
    "version": 2
   },
   "file_extension": ".py",
   "mimetype": "text/x-python",
   "name": "python",
   "nbconvert_exporter": "python",
   "pygments_lexer": "ipython2",
   "version": "2.7.14"
  }
 },
 "nbformat": 4,
 "nbformat_minor": 2
}
